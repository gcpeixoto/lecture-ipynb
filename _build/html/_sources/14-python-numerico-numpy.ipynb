{
 "cells": [
  {
   "cell_type": "markdown",
   "metadata": {},
   "source": [
    "Python Numérico (numpy): *arrays*\n",
    "================================\n",
    "\n",
    "Introdução ao Numpy\n",
    "------------------\n",
    "\n",
    "O pacote NumPy (lido como NUMerical PYthon) dá acesso a\n",
    "\n",
    "- uma nova estrutura de dados chamada `array` que permite\n",
    "\n",
    "- operações vetoriais e matriciais eficientes. Ela também fornece\n",
    "\n",
    "- uma série de operações de álgebra linear (como a resolução de sistemas de equações lineares e a computação de autovetores/autovalores).\n",
    "\n",
    "### Histórico\n",
    "\n",
    "Alguns conhecimentos prévios: existem duas outras implementações que fornecem quase a mesma funcionalidade do NumPy: `Numeric` e `numarray`.\n",
    "\n",
    "- `Numeric` foi a primeira provisão de um conjunto de métodos numéricos (semelhante ao Matlab) para Python. Ela evoluiu a partir de um projeto de doutorado.\n",
    "\n",
    "- `Numarray` é uma implementação de `Numeric` com certas melhorias (mas, para nossos propósitos, `Numeric` e `numarray` comportam-se praticamente de modo idêntico).\n",
    "\n",
    "- No início de 2006, decidiram combinar os melhores aspectos do `Numeric` e `numarray` no `Scipy` e fornecer o `array` (\"esperançosamente\", um produto final) como um tipo de dado incluído no módulo \"NumPy\".\n",
    "\n",
    "No restante do material, usaremos o pacote \"NumPy\" como fornecido pelo (novo) SciPy. Se, por algum motivo, isso não funcionar para você, é porque, provavelmente, sua versão do SciPy seja muito antiga. Nesse caso, `Numeric` ou `numarray` podem estar instaladas e devem fornecer quase que as mesmas capacidades. [5]\n",
    "\n",
    "### *Arrays*\n",
    "\n",
    "Apresentamos um novo tipo de dado (fornecido pelo NumPy) que é chamado de *array*. Uma matriz é \"parecida\" com uma lista, mas um *array* pode guardar apenas elementos do mesmo tipo (ao passo que uma lista pode misturar diferentes tipos de objetos). Isto significa que *arrays* são mais eficientes em armazenamento (porque não precisamos armazenar um tipo para cada elemento). *Arrays* também são a estrutura de dados de escolha para cálculos numéricos quando lidamos com vetores e matrizes. Vetores e matrizes (e matrizes com mais de dois índices) são todos chamados de *arrays* pela biblioteca NumPy.\n",
    "\n",
    "#### Vetores (*Arrays* 1D)\n",
    "\n",
    "A estrutura de dados de que precisaremos mais frequentemente é um vetor. Aqui estão alguns exemplos de como podemos gerar um:\n",
    "\n",
    "- Conversão de uma lista (ou tupla) em uma matriz usando `numpy.array`:"
   ]
  },
  {
   "cell_type": "code",
   "execution_count": 1,
   "metadata": {},
   "outputs": [
    {
     "name": "stdout",
     "output_type": "stream",
     "text": [
      "[ 0.   0.5  1.   1.5]\n"
     ]
    }
   ],
   "source": [
    "import numpy as N\n",
    "x = N.array([0, 0.5, 1, 1.5])\n",
    "print(x)"
   ]
  },
  {
   "cell_type": "markdown",
   "metadata": {},
   "source": [
    "-   Criação de um vetor usando \"ARRAYRange\":"
   ]
  },
  {
   "cell_type": "code",
   "execution_count": 2,
   "metadata": {},
   "outputs": [
    {
     "name": "stdout",
     "output_type": "stream",
     "text": [
      "[ 0.   0.5  1.   1.5]\n"
     ]
    }
   ],
   "source": [
    "x = N.arange(0, 2, 0.5)\n",
    "print(x)"
   ]
  },
  {
   "cell_type": "markdown",
   "metadata": {},
   "source": [
    "- Criação de vetor de zeros"
   ]
  },
  {
   "cell_type": "code",
   "execution_count": 3,
   "metadata": {},
   "outputs": [
    {
     "name": "stdout",
     "output_type": "stream",
     "text": [
      "[ 0.  0.  0.  0.]\n"
     ]
    }
   ],
   "source": [
    "x = N.zeros(4)\n",
    "print(x)"
   ]
  },
  {
   "cell_type": "markdown",
   "metadata": {},
   "source": [
    "Uma vez que a matriz for estabelecida, podemos definir e recuperar valores individuais. Por exemplo:"
   ]
  },
  {
   "cell_type": "code",
   "execution_count": 4,
   "metadata": {},
   "outputs": [
    {
     "name": "stdout",
     "output_type": "stream",
     "text": [
      "[ 3.4  0.   4.   0. ]\n",
      "3.4\n",
      "[ 3.4  0.   4. ]\n"
     ]
    }
   ],
   "source": [
    "x = N.zeros(4)\n",
    "x[0] = 3.4\n",
    "x[2] = 4\n",
    "print(x)\n",
    "print(x[0])\n",
    "print(x[0:-1])"
   ]
  },
  {
   "cell_type": "markdown",
   "metadata": {},
   "source": [
    "Observe que, tendo o vetor, podemos executar cálculos em cada elemento no vetor com uma única declaração:"
   ]
  },
  {
   "cell_type": "code",
   "execution_count": 5,
   "metadata": {},
   "outputs": [
    {
     "name": "stdout",
     "output_type": "stream",
     "text": [
      "[ 0.   0.5  1.   1.5]\n",
      "[ 10.   10.5  11.   11.5]\n",
      "[ 0.    0.25  1.    2.25]\n",
      "[ 0.          0.47942554  0.84147098  0.99749499]\n"
     ]
    }
   ],
   "source": [
    "x = N.arange(0, 2, 0.5)\n",
    "print(x)\n",
    "print(x + 10)\n",
    "print(x ** 2)\n",
    "print(N.sin(x))"
   ]
  },
  {
   "cell_type": "markdown",
   "metadata": {},
   "source": [
    "#### Matrizes (*Arrays* 2D)\n",
    "\n",
    "Aqui estão duas maneiras de criar um *array* bidimensional:\n",
    "\n",
    "- Ao converter uma lista de listas (ou tuplas) em uma matriz:"
   ]
  },
  {
   "cell_type": "code",
   "execution_count": 6,
   "metadata": {},
   "outputs": [
    {
     "data": {
      "text/plain": [
       "array([[1, 2, 3],\n",
       "       [4, 5, 6]])"
      ]
     },
     "execution_count": 6,
     "metadata": {},
     "output_type": "execute_result"
    }
   ],
   "source": [
    "x = N.array([[1, 2, 3], [4, 5, 6]])\n",
    "x"
   ]
  },
  {
   "cell_type": "markdown",
   "metadata": {},
   "source": [
    "- Usando o método <span>`zeros`</span> para criar uma matriz com 5 linhas e 4 colunas"
   ]
  },
  {
   "cell_type": "code",
   "execution_count": 7,
   "metadata": {},
   "outputs": [
    {
     "data": {
      "text/plain": [
       "array([[ 0.,  0.,  0.,  0.],\n",
       "       [ 0.,  0.,  0.,  0.],\n",
       "       [ 0.,  0.,  0.,  0.],\n",
       "       [ 0.,  0.,  0.,  0.],\n",
       "       [ 0.,  0.,  0.,  0.]])"
      ]
     },
     "execution_count": 7,
     "metadata": {},
     "output_type": "execute_result"
    }
   ],
   "source": [
    "x = N.zeros((5, 4))\n",
    "x"
   ]
  },
  {
   "cell_type": "markdown",
   "metadata": {},
   "source": [
    "O \"formato\" de uma matriz pode ser consultado assim (aqui temos 2 linhas e 3 colunas):"
   ]
  },
  {
   "cell_type": "code",
   "execution_count": 8,
   "metadata": {},
   "outputs": [
    {
     "name": "stdout",
     "output_type": "stream",
     "text": [
      "[[1 2 3]\n",
      " [4 5 6]]\n"
     ]
    },
    {
     "data": {
      "text/plain": [
       "(2, 3)"
      ]
     },
     "execution_count": 8,
     "metadata": {},
     "output_type": "execute_result"
    }
   ],
   "source": [
    "x=N.array([[1, 2, 3], [4, 5, 6]])\n",
    "print(x)\n",
    "x.shape"
   ]
  },
  {
   "cell_type": "markdown",
   "metadata": {},
   "source": [
    "Elementos individuais podem ser acessados e configurados usando esta sintaxe:"
   ]
  },
  {
   "cell_type": "code",
   "execution_count": 9,
   "metadata": {},
   "outputs": [
    {
     "data": {
      "text/plain": [
       "1"
      ]
     },
     "execution_count": 9,
     "metadata": {},
     "output_type": "execute_result"
    }
   ],
   "source": [
    "x=N.array([[1, 2, 3], [4, 5, 6]])\n",
    "x[0, 0] "
   ]
  },
  {
   "cell_type": "code",
   "execution_count": 10,
   "metadata": {},
   "outputs": [
    {
     "data": {
      "text/plain": [
       "2"
      ]
     },
     "execution_count": 10,
     "metadata": {},
     "output_type": "execute_result"
    }
   ],
   "source": [
    "x[0, 1]"
   ]
  },
  {
   "cell_type": "code",
   "execution_count": 11,
   "metadata": {},
   "outputs": [
    {
     "data": {
      "text/plain": [
       "3"
      ]
     },
     "execution_count": 11,
     "metadata": {},
     "output_type": "execute_result"
    }
   ],
   "source": [
    "x[0, 2]"
   ]
  },
  {
   "cell_type": "code",
   "execution_count": 12,
   "metadata": {},
   "outputs": [
    {
     "data": {
      "text/plain": [
       "4"
      ]
     },
     "execution_count": 12,
     "metadata": {},
     "output_type": "execute_result"
    }
   ],
   "source": [
    "x[1, 0]"
   ]
  },
  {
   "cell_type": "code",
   "execution_count": 13,
   "metadata": {},
   "outputs": [
    {
     "data": {
      "text/plain": [
       "array([1, 4])"
      ]
     },
     "execution_count": 13,
     "metadata": {},
     "output_type": "execute_result"
    }
   ],
   "source": [
    "x[:, 0]"
   ]
  },
  {
   "cell_type": "code",
   "execution_count": 14,
   "metadata": {},
   "outputs": [
    {
     "data": {
      "text/plain": [
       "array([1, 2, 3])"
      ]
     },
     "execution_count": 14,
     "metadata": {},
     "output_type": "execute_result"
    }
   ],
   "source": [
    "x[0,:]"
   ]
  },
  {
   "cell_type": "markdown",
   "metadata": {},
   "source": [
    "### Conversão de *array* para lista ou tupla\n",
    "\n",
    "Para converter um *array* de volta para uma lista ou tupla, podemos usar as funções padrão <span>`list(s)`</span> e <span>`tuple(s)`</span> do Python, que levam uma sequência <span>`s`</span> como argumento de entrada e retornam uma lista e uma tupla, respectivamente:"
   ]
  },
  {
   "cell_type": "code",
   "execution_count": 15,
   "metadata": {},
   "outputs": [
    {
     "data": {
      "text/plain": [
       "array([ 1,  4, 10])"
      ]
     },
     "execution_count": 15,
     "metadata": {},
     "output_type": "execute_result"
    }
   ],
   "source": [
    "a = N.array([1, 4, 10])\n",
    "a"
   ]
  },
  {
   "cell_type": "code",
   "execution_count": 16,
   "metadata": {},
   "outputs": [
    {
     "data": {
      "text/plain": [
       "[1, 4, 10]"
      ]
     },
     "execution_count": 16,
     "metadata": {},
     "output_type": "execute_result"
    }
   ],
   "source": [
    "list(a)"
   ]
  },
  {
   "cell_type": "code",
   "execution_count": 17,
   "metadata": {},
   "outputs": [
    {
     "data": {
      "text/plain": [
       "(1, 4, 10)"
      ]
     },
     "execution_count": 17,
     "metadata": {},
     "output_type": "execute_result"
    }
   ],
   "source": [
    "tuple(a)"
   ]
  },
  {
   "cell_type": "markdown",
   "metadata": {},
   "source": [
    "### Operações de Álgebra Linear padrão \n",
    "\n",
    "#### Multiplicação de matrizes\n",
    "\n",
    "Dois *arrays* podem ser multiplicados na forma usual da álgebra linear usando <span>`numpy.matrixmultiply`</span>. Aqui está um exemplo:"
   ]
  },
  {
   "cell_type": "code",
   "execution_count": 18,
   "metadata": {
    "collapsed": true
   },
   "outputs": [],
   "source": [
    "import numpy as N\n",
    "import numpy.random       \n",
    "A = numpy.random.rand(5, 5)    # gera uma matriz aleatória 5x5\n",
    "x = numpy.random.rand(5)       # gera um vetor de 5 elementos\n",
    "b=N.dot(A, x)                  # multiplica a matriz A pelo vetor x "
   ]
  },
  {
   "cell_type": "markdown",
   "metadata": {},
   "source": [
    "#### Solução de sistemas de equações lineares\n",
    "\n",
    "Para resolver um sistema de equações **Ax** = **b** que é dado na forma matricial (i.e. **A** é uma matriz e **x** e **b** são vetores, onde **A** e **b** são conhecidos e queremos encontrar o vetor desconhecido **x**), podemos usar o pacote de álgebra linear (<span>`linalg`</span>) do <span>`numpy`</span>:"
   ]
  },
  {
   "cell_type": "code",
   "execution_count": 19,
   "metadata": {
    "collapsed": true
   },
   "outputs": [],
   "source": [
    "import numpy.linalg as LA\n",
    "x = LA.solve(A, b)"
   ]
  },
  {
   "cell_type": "markdown",
   "metadata": {},
   "source": [
    "#### Calculando Autovetores e Autovalores\n",
    "\n",
    "Aqui está um pequeno exemplo que calcula os autovetores e autovalores \\[triviais\\] (<span>`eig`</span>) da matriz identidade (<span>`eye`</span>)):"
   ]
  },
  {
   "cell_type": "code",
   "execution_count": 20,
   "metadata": {},
   "outputs": [
    {
     "name": "stdout",
     "output_type": "stream",
     "text": [
      "[[ 1.  0.  0.]\n",
      " [ 0.  1.  0.]\n",
      " [ 0.  0.  1.]]\n"
     ]
    }
   ],
   "source": [
    "import numpy\n",
    "import numpy.linalg as LA\n",
    "A = numpy.eye(3)     #'eye'->I->1 (matriz identidade)\n",
    "print(A)"
   ]
  },
  {
   "cell_type": "code",
   "execution_count": 21,
   "metadata": {},
   "outputs": [
    {
     "name": "stdout",
     "output_type": "stream",
     "text": [
      "[ 1.  1.  1.]\n"
     ]
    }
   ],
   "source": [
    "auto_valores, auto_vetores = LA.eig(A)\n",
    "print(auto_valores)"
   ]
  },
  {
   "cell_type": "code",
   "execution_count": 22,
   "metadata": {},
   "outputs": [
    {
     "name": "stdout",
     "output_type": "stream",
     "text": [
      "[[ 1.  0.  0.]\n",
      " [ 0.  1.  0.]\n",
      " [ 0.  0.  1.]]\n"
     ]
    }
   ],
   "source": [
    "print(auto_vetores)"
   ]
  },
  {
   "cell_type": "markdown",
   "metadata": {},
   "source": [
    "Observe que cada um desses comandos fornece sua própria documentação. Por exemplo, <span>`help(LA.eig)`</span> irá lhe dizer tudo sobre a função de autovetor e autovalor (uma vez que você tenha importado `numpy.linalg` como `LA`)."
   ]
  },
  {
   "cell_type": "markdown",
   "metadata": {},
   "source": [
    "#### Ajuste polinomial de curvas \n",
    "\n",
    "Vamos supor que temos dados x-y para os quais queremos ajustar um polinômio (no sentido de quadrados mínimos).\n",
    "\n",
    "O `NumPy` fornece a rotina <span>`polyfit(x, y, n)`</span> (que é semelhante à função `polyfit` do Matlab, que toma por argumentos uma lista <span>`x`</ span> de valores x para os pontos dos dados, uma lista <span>`y`</span> de valores y para os mesmos pontos de dados e <span>`n`</ span>, a ordem desejada do polinômio que será determinado para ajustar os dados."
   ]
  },
  {
   "cell_type": "code",
   "execution_count": 23,
   "metadata": {},
   "outputs": [
    {
     "data": {
      "text/plain": [
       "<matplotlib.text.Text at 0x10b7098d0>"
      ]
     },
     "execution_count": 23,
     "metadata": {},
     "output_type": "execute_result"
    },
    {
     "data": {
      "image/png": "[encoded data removed]",
      "text/plain": [
       "<matplotlib.figure.Figure at 0x10a928ac8>"
      ]
     },
     "metadata": {},
     "output_type": "display_data"
    }
   ],
   "source": [
    "%matplotlib inline\n",
    "import numpy\n",
    "\n",
    "# demonstração - ajuste de curva: `xdata` e `ydata` são dados de entrada\n",
    "xdata = numpy.array([0.0 , 1.0 , 2.0 , 3.0 , 4.0 , 5.0])\n",
    "ydata = numpy.array([0.0 , 0.8 , 0.9 , 0.1 , -0.8 , -1.0])\n",
    "\n",
    "# ajuste por um polinômio cúbico (ordem = 3) \n",
    "z = numpy.polyfit(xdata, ydata, 3)\n",
    "\n",
    "# z é um array de coeficientes, maior grau primeiro, i . e .\n",
    "#                 X^3            X^2          X             0\n",
    "# z = array ([ 0.08703704 , -0.81349206 , 1.69312169 , -0.03968254])\n",
    "\n",
    "# É conveniente usar objetos ‘poly1d‘ para lidar com polinômios:\n",
    "p = numpy.poly1d(z) # cria uma função polinomial p a partir dos coeficientes\n",
    "                    # e p pode ser avaliado para todo x então.\n",
    "\n",
    "# cria plot\n",
    "xs = [0.1 * i for i in range (50)]\n",
    "ys = [p(x) for x in xs]   # avalia p(x) para todo `x` na lista `xs`\n",
    "\n",
    "import pylab\n",
    "pylab.plot(xdata, ydata, 'o', label='dados')\n",
    "pylab.plot(xs, ys, label='curva ajustada')\n",
    "pylab.ylabel('y')\n",
    "pylab.xlabel('x')\n"
   ]
  },
  {
   "cell_type": "markdown",
   "metadata": {},
   "source": [
    "A figura mostra a curva ajustada (linha contínua) juntamente com os pontos de dados calculados precisos."
   ]
  },
  {
   "cell_type": "markdown",
   "metadata": {},
   "source": [
    "### Mais exemplos NumPy\n",
    "\n",
    "Podem ser encontrados aqui: <http://www.scipy.org/Numpy_Example_List>\n",
    "\n",
    "### NumPy para usuários do Matlab\n",
    "\n",
    "Há uma página dedicada que explica o módulo NumPy a partir da perspectiva de um usuário (experiente) do Matlab em <http://docs.scipy.org/doc/numpy-dev/user/numpy-for-matlab-users.html>."
   ]
  }
 ],
 "metadata": {
  "kernelspec": {
   "display_name": "Python 3",
   "language": "python",
   "name": "python3"
  },
  "language_info": {
   "codemirror_mode": {
    "name": "ipython",
    "version": 3
   },
   "file_extension": ".py",
   "mimetype": "text/x-python",
   "name": "python",
   "nbconvert_exporter": "python",
   "pygments_lexer": "ipython3",
   "version": "3.6.4"
  }
 },
 "nbformat": 4,
 "nbformat_minor": 2
}
