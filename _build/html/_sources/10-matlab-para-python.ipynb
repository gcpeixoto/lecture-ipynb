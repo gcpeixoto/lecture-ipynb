{
 "cells": [
  {
   "cell_type": "markdown",
   "metadata": {},
   "source": [
    "Do Matlab para Python\n",
    "=====================\n",
    "\n",
    "Comandos importantes\n",
    "------------------\n",
    "\n",
    "### O laço `for`\n",
    "\n",
    "Matlab:\n",
    "\n",
    "```octave\n",
    "for i = 1:10\n",
    "    disp(i)\n",
    "end\n",
    "```"
   ]
  },
  {
   "cell_type": "markdown",
   "metadata": {},
   "source": [
    "No Matlab, a palavra-chave `end` é necessária para finalizar o bloco do laço `for`.\n",
    "\n",
    "No Python:"
   ]
  },
  {
   "cell_type": "code",
   "execution_count": 1,
   "metadata": {
    "scrolled": true
   },
   "outputs": [
    {
     "name": "stdout",
     "output_type": "stream",
     "text": [
      "1\n",
      "2\n",
      "3\n",
      "4\n",
      "5\n",
      "6\n",
      "7\n",
      "8\n",
      "9\n",
      "10\n"
     ]
    }
   ],
   "source": [
    "for i in range(1,11):\n",
    "    print(i)"
   ]
  },
  {
   "cell_type": "markdown",
   "metadata": {},
   "source": [
    "Em Python, é necessário adicionar dois-pontos (\":\") no final da linha do `for`. (Isto é importante e frequentemente esquecido, principalmente, para quem já programou em Matlab antes.) Além disso, os comandos a serem executados dentro do laço `for` devem ser indentados. \n",
    "\n",
    "### A declaração condicional `if-then`\n",
    "\n",
    "Matlab:\n",
    "\n",
    "```octave\n",
    "if a==0\n",
    "    disp('a é zero')\n",
    "elseif a<0\n",
    "    disp('a é negativo')\n",
    "elseif a==42\n",
    "    disp('a é 42')\n",
    "else\n",
    "    disp('a é positivo')\n",
    "end\n",
    "```"
   ]
  },
  {
   "cell_type": "markdown",
   "metadata": {},
   "source": [
    "Em Matlab, a palavra-chave `end` é necessária na parte final do bloco.\n",
    "\n",
    "Python:"
   ]
  },
  {
   "cell_type": "code",
   "execution_count": 2,
   "metadata": {},
   "outputs": [
    {
     "name": "stdout",
     "output_type": "stream",
     "text": [
      "a é negativo\n"
     ]
    }
   ],
   "source": [
    "a = -5\n",
    "\n",
    "if a==0:\n",
    "    print('a é zero')\n",
    "elif a<0:\n",
    "    print('a é negativo')\n",
    "elif a==42:\n",
    "    print('a é 42')\n",
    "else:\n",
    "    print('a é positivo')"
   ]
  },
  {
   "cell_type": "markdown",
   "metadata": {},
   "source": [
    "Em Python, é necessário adicionar dois-pontos (\":\") após cada condição (i.e., nas linhas começando com `if`, `elif`, `else`). Além disso, os comandos a serem executados dentro de cada parte do escopo `if-then-else` devem ser indentados.\n",
    "\n",
    "### Indexação\n",
    "\n",
    "No Matlab, a indexação de matrizes e vetores começa em 1 (similarmente ao Fortran), ao passo que no Python, ela começa em 0 (similarmente ao C).\n",
    "\n",
    "### Matrizes\n",
    "\n",
    "Em Matlab, todo objeto é uma matriz. Em Python, há uma biblioteca especializada chamada NumPy que fornece o objeto `array`, o qual, por sua vez, possui todas as funcionalidades correspondentes. Similarmente ao Matlab, o NumPy é baseado em bibliotecas cuja execução é bastante rápida. \n",
    "\n",
    "Há um documento introdutório dedicado ao NumPy para usuários do Matlab disponível em <https://docs.scipy.org/doc/numpy-dev/user/numpy-for-matlab-users.html>."
   ]
  }
 ],
 "metadata": {
  "kernelspec": {
   "display_name": "Python 3",
   "language": "python",
   "name": "python3"
  },
  "language_info": {
   "codemirror_mode": {
    "name": "ipython",
    "version": 3
   },
   "file_extension": ".py",
   "mimetype": "text/x-python",
   "name": "python",
   "nbconvert_exporter": "python",
   "pygments_lexer": "ipython3",
   "version": "3.6.1"
  }
 },
 "nbformat": 4,
 "nbformat_minor": 1
}
