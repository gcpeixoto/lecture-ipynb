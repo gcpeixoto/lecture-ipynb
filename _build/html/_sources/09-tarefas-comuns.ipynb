{
 "cells": [
  {
   "cell_type": "markdown",
   "metadata": {},
   "source": [
    "Tarefas comuns\n",
    "============\n",
    "\n",
    "Aqui fornecemos uma seleção de pequenos exemplos de programas que abordam algumas tarefas e um pouco mais de códigos em Python aos quais podemos recorrer enquanto buscamos inspiração para atacar um determinado problema.\n",
    "\n",
    "Muitas maneiras de computar uma série\n",
    "-----------------------------\n",
    "\n",
    "As an example, we compute the sum of odd numbers in different ways.\n",
    "\n",
    "Como um exemplo, computamos a soma de números ímpares de diferentes maneiras."
   ]
  },
  {
   "cell_type": "code",
   "execution_count": 30,
   "metadata": {},
   "outputs": [
    {
     "name": "stdout",
     "output_type": "stream",
     "text": [
      "este resultado eh 12, esperado 12\n"
     ]
    }
   ],
   "source": [
    "def calcula_soma1(n):\n",
    "    \"\"\"computa e retorna a soma de 2,4,6,...,m, onde m \n",
    "    é o maior número par menor do que n.\n",
    "    \n",
    "    Por exemplo, com n = 7, computamos 0+2+4+6 = 12.\n",
    "    \n",
    "    Esta implementação usa a variável 'soma' que é \n",
    "    incrementada a cada iteração do laço `for`.\n",
    "    \"\"\"    \n",
    "    soma = 0\n",
    "    for i in range(0, n, 2):\n",
    "        soma = soma + i\n",
    "    return soma\n",
    "\n",
    "\n",
    "def calcula_soma2(n):\n",
    "    \"\"\"Idem...\n",
    "\n",
    "    Esta implementação usa um loop `while`:\n",
    "    \"\"\"\n",
    "\n",
    "    contador = 0\n",
    "    soma = 0\n",
    "    while contador < n:\n",
    "        soma = soma + contador\n",
    "        contador = contador + 2\n",
    "\n",
    "    return soma\n",
    "\n",
    "\n",
    "def calcula_soma3(n, inicio=0):\n",
    "    \"\"\"Idem... Esta é uma implementação recursiva:\"\"\"\n",
    "\n",
    "    if n <= inicio:\n",
    "        return 0\n",
    "    else:\n",
    "        return inicio + calcula_soma3(n, inicio + 2)\n",
    "\n",
    "\n",
    "def calcula_soma4a(n):\n",
    "    \"\"\"Uma abordagem funcional... Este parece ser \n",
    "    o código mais curto e conciso.\n",
    "    \"\"\"\n",
    "    return sum(range(0, n, 2))\n",
    "\n",
    "from functools import reduce\n",
    "def calcula_soma4b(n):\n",
    "    \"\"\"Uma abordagem funcional... não faz uso de \n",
    "    'sum' mas conveniente aqui.\n",
    "    \"\"\"\n",
    "    return reduce(lambda a, b: a + b, range(0, n, 2))\n",
    "\n",
    "\n",
    "def calcula_soma4c(n):\n",
    "    \"\"\"Uma abordagem funcional... um pouco mais rápida do \n",
    "    que `calcula_soma4b` uma vez que evitamos o uso de `lambda`\n",
    "    \"\"\"\n",
    "    import operator\n",
    "    return reduce(operator.__add__, range(0, n, 2))\n",
    "\n",
    "\n",
    "def calcula_soma4d(n):\n",
    "    \"\"\"Usando compreensão de lista.\"\"\"\n",
    "    return sum([k for k in range(0, n, 2)])\n",
    "\n",
    "\n",
    "def calcula_soma4e(n):\n",
    "    \"\"\"Usando outra variação de compreensão de lista.\"\"\"\n",
    "    return sum([k for k in range(0, n) if k % 2 == 0])\n",
    "\n",
    "\n",
    "def calcula_soma5(n):\n",
    "    \"\"\"Usando python numérico (numpy). Esta é muito rápida\n",
    "    (mas não tem o mesmo efeito para n muito maior do que 10).\"\"\"\n",
    "    import numpy\n",
    "    return numpy.sum(2 * numpy.arange(0, (n + 1) // 2))\n",
    "\n",
    "\n",
    "def teste_consistencia():\n",
    "    \"\"\"Verifica todas as funções `calcula_soma`. As funções neste arquivo\n",
    "    produzem a mesma resposta para todo n >= 2 and < N.\n",
    "    \"\"\"\n",
    "    def verificacao_1_n(n):\n",
    "        \"\"\"Compara a saida de `compute_sum1` com todas as outras funções \n",
    "        para um dado n>=2. Lança exceção do tipo `AssertionError` se houver discordância na saída.\"\"\"\n",
    "        funcs = [calcula_soma1, calcula_soma2, calcula_soma3,\n",
    "                 calcula_soma4a, calcula_soma4b, calcula_soma4c,\n",
    "                 calcula_soma4d, calcula_soma4e, calcula_soma5]\n",
    "        resp1 = calcula_soma1(n)\n",
    "        for f in funcs[1:]:\n",
    "            assert resp1 == f(n), \"%s(n)=%d diferente de %s(n)=%d \" \\\n",
    "                                  % (funcs[0], funcs[0](n), f, f(n))\n",
    "\n",
    "    # laço principal de teste na funcao teste_consistencia\n",
    "    for n in range(2, 1000):\n",
    "        verificacao_1_n(n)\n",
    "\n",
    "if __name__ == \"__main__\": \n",
    "    m = 7\n",
    "    resultado_correto = 12\n",
    "    resultado_atual = calcula_soma1(m)\n",
    "    print(\"este resultado eh {}, esperado {}\".format(\n",
    "        resultado_atual, resultado_correto))\n",
    "    # compara com resultado correto\n",
    "    assert resultado_atual == resultado_correto\n",
    "    # verifica todos os outros metodos \n",
    "    assert calcula_soma2(m) == resultado_correto\n",
    "    assert calcula_soma3(m) == resultado_correto\n",
    "    assert calcula_soma4a(m) == resultado_correto\n",
    "    assert calcula_soma4b(m) == resultado_correto\n",
    "    assert calcula_soma4c(m) == resultado_correto\n",
    "    assert calcula_soma4d(m) == resultado_correto\n",
    "    assert calcula_soma4e(m) == resultado_correto\n",
    "    assert calcula_soma5(m) == resultado_correto\n",
    "\n",
    "    # verificação mais sistemática para muitos valores\n",
    "    teste_consistencia()"
   ]
  },
  {
   "cell_type": "markdown",
   "metadata": {},
   "source": [
    "Todas as implementações diferentes mostradas acima calculam o mesmo resultado. Há algumas coisas a serem aprendidas com isso:\n",
    "\n",
    "- Há um número grande (provavelmente infinito) de soluções para um determinado problema. (Isso significa que escrever programas é uma tarefa que exige criatividade!)\n",
    "\n",
    "- Estes podem atingir o mesmo \"resultado\" (neste caso, o cálculo de um número).\n",
    "\n",
    "- Diferentes soluções podem ter características diferentes. Elas podem:\n",
    "\n",
    "     - ser mais rápidas ou mais lentas\n",
    "\n",
    "     - usar menos ou mais memória\n",
    "\n",
    "     - ser mais fáceis ou mais difíceis de entender (quando se lê o código-fonte)\n",
    "\n",
    "     - podem ser consideradas mais ou menos elegantes."
   ]
  },
  {
   "cell_type": "markdown",
   "metadata": {},
   "source": [
    "Classificação (*Sorting*)\n",
    "-------\n",
    "\n",
    "Suponha que precisamos classificar uma lista de tuplas com pares de identificadores de usuário e nomes, i.e."
   ]
  },
  {
   "cell_type": "code",
   "execution_count": 31,
   "metadata": {
    "collapsed": true
   },
   "outputs": [],
   "source": [
    "minha_lista = [(\"tarso\", \"Paulo de Tarso\",),\n",
    "          (\"admin\", \"O Administrador\"),\n",
    "          (\"visitante\", \"O Visitante\")]"
   ]
  },
  {
   "cell_type": "markdown",
   "metadata": {},
   "source": [
    "a qual queremos classificar em ordem crescente de identificadores de usuário. Se houverem dois ou mais identificadores de usuários idênticos, eles devem ser classificados pela ordem dos nomes associados com esses identificadores. Este comportamento é apenas o comportamento padrão de `sort` (que volta ao assunto de como sequencias são comparadas)."
   ]
  },
  {
   "cell_type": "code",
   "execution_count": 32,
   "metadata": {},
   "outputs": [
    {
     "name": "stdout",
     "output_type": "stream",
     "text": [
      "[('admin', 'O Administrador'), ('tarso', 'Paulo de Tarso'), ('visitante', 'O Visitante')]\n"
     ]
    }
   ],
   "source": [
    "coisas = minha_lista # colete seus dados\n",
    "coisas.sort()        # classifique\n",
    "print(coisas)        # inspecione os dados classificados"
   ]
  },
  {
   "cell_type": "markdown",
   "metadata": {},
   "source": [
    "As sequências são inicialmente comparadas pelos primeiros elementos apenas. Se eles diferirem, então uma decisão é tomada com base apenas nesses elementos. Se os elementos forem iguais, somente então os próximos elementos na seqüência são comparados... e assim por diante, até que uma diferença for encontrada, ou ficarmos sem elementos. Por exemplo:"
   ]
  },
  {
   "cell_type": "code",
   "execution_count": 33,
   "metadata": {},
   "outputs": [
    {
     "data": {
      "text/plain": [
       "True"
      ]
     },
     "execution_count": 33,
     "metadata": {},
     "output_type": "execute_result"
    }
   ],
   "source": [
    "(2,0) > (1,0)"
   ]
  },
  {
   "cell_type": "code",
   "execution_count": 34,
   "metadata": {},
   "outputs": [
    {
     "data": {
      "text/plain": [
       "True"
      ]
     },
     "execution_count": 34,
     "metadata": {},
     "output_type": "execute_result"
    }
   ],
   "source": [
    "(2,1) > (1,3)"
   ]
  },
  {
   "cell_type": "code",
   "execution_count": 35,
   "metadata": {},
   "outputs": [
    {
     "data": {
      "text/plain": [
       "False"
      ]
     },
     "execution_count": 35,
     "metadata": {},
     "output_type": "execute_result"
    }
   ],
   "source": [
    "(2,1) > (2,1)"
   ]
  },
  {
   "cell_type": "code",
   "execution_count": 36,
   "metadata": {},
   "outputs": [
    {
     "data": {
      "text/plain": [
       "True"
      ]
     },
     "execution_count": 36,
     "metadata": {},
     "output_type": "execute_result"
    }
   ],
   "source": [
    "(2,2) > (2,1)"
   ]
  },
  {
   "cell_type": "markdown",
   "metadata": {},
   "source": [
    "É também possível fazer:"
   ]
  },
  {
   "cell_type": "code",
   "execution_count": 37,
   "metadata": {
    "collapsed": true
   },
   "outputs": [],
   "source": [
    "coisas = sorted(coisas)"
   ]
  },
  {
   "cell_type": "markdown",
   "metadata": {},
   "source": [
    "Quando a lista não é particularmente grande, geralmente é aconselhável usar a função `sorted` (que *retorna uma cópia ordenada* da lista) sobre o método `sort` de uma lista (que altera a lista para uma classificação ordenada de elementos, e retorna `None`).\n",
    "\n",
    "No entanto, e se os dados que temos forem armazenados de tal forma que, em cada uma das tuplas da lista, o nome venha primeiro, seguido do identificador, isto é,"
   ]
  },
  {
   "cell_type": "code",
   "execution_count": 38,
   "metadata": {
    "collapsed": true
   },
   "outputs": [],
   "source": [
    "minha_lista2 = [(\"Paulo de Tarso\", \"tarso\"),\n",
    "           (\"O Administrador\", \"admin\"),\n",
    "           (\"O Visitante\", \"visitante\")]"
   ]
  },
  {
   "cell_type": "markdown",
   "metadata": {},
   "source": [
    "We want to sort with the id as the primary key. The first approach to do this is to change the order of `mylist2` to that of `mylist`, and use `sort` as shown above.\n",
    "\n",
    "The second, neater approach relies on being able to decypher the cryptic help for the sorted function. `list.sort()` has the same options, but its help is less helpful.\n",
    "\n",
    "Queremos ordenar tomando o identificador como chave primária. A primeira abordagem para fazer isto é mudar a ordem de `minha_lista2` para aquela de `minha_lista`, e usar `sort` como mostrado acima."
   ]
  },
  {
   "cell_type": "code",
   "execution_count": 39,
   "metadata": {},
   "outputs": [
    {
     "name": "stdout",
     "output_type": "stream",
     "text": [
      "Help on built-in function sorted in module builtins:\n",
      "\n",
      "sorted(iterable, /, *, key=None, reverse=False)\n",
      "    Return a new list containing all items from the iterable in ascending order.\n",
      "    \n",
      "    A custom key function can be supplied to customize the sort order, and the\n",
      "    reverse flag can be set to request the result in descending order.\n",
      "\n"
     ]
    }
   ],
   "source": [
    "help(sorted)"
   ]
  },
  {
   "cell_type": "markdown",
   "metadata": {},
   "source": [
    "Você deve notar que `sorted` e `list.sort` têm dois parâmetros. O primeiro deles é chamado `key` (palavra-chave, ou simplesmente chave). Você pode usar isso para fornecer uma *função-chave*, que será usada para transformar os itens para ser comparados via `sort`.\n",
    "\n",
    "Vamos ilustrar isso no contexto do nosso exercício, assumindo que nós armazenamos uma lista de pares como este\n",
    "\n",
    "    par = nome, id"
   ]
  },
  {
   "cell_type": "markdown",
   "metadata": {},
   "source": [
    "(i.e. como em `minha_lista_2`) e que queiramos classificar de acordo com `id`, ignorando `nome`. Podemos atingir isto escrevendo uma função que recupere apenas o segundo elemento do par que ela recebe: "
   ]
  },
  {
   "cell_type": "code",
   "execution_count": 40,
   "metadata": {
    "collapsed": true
   },
   "outputs": [],
   "source": [
    "def minha_chave(par):\n",
    "    return par[1]"
   ]
  },
  {
   "cell_type": "code",
   "execution_count": 41,
   "metadata": {},
   "outputs": [],
   "source": [
    "minha_lista2.sort(key=minha_chave)"
   ]
  },
  {
   "cell_type": "markdown",
   "metadata": {},
   "source": [
    "Isto também funciona com uma função anônima:"
   ]
  },
  {
   "cell_type": "code",
   "execution_count": 42,
   "metadata": {
    "collapsed": true
   },
   "outputs": [],
   "source": [
    "minha_lista2.sort(key=lambda p: p[1]) "
   ]
  },
  {
   "cell_type": "markdown",
   "metadata": {},
   "source": [
    "### Eficiência\n",
    "\n",
    "A função `key` será chamada exatamente uma vez para cada elemento da lista. Isso é muito mais eficiente do que chamar uma função em cada *comparação* (que era como você personalizava a classificação em versões antigas do Python). Mas se você tiver uma grande lista para ordenar, a sobrecarga de chamada de uma função Python (que é relativamente grande em comparação com a sobrecarga de uma função em C) pode ser notável.\n",
    "\n",
    "Se a eficiência for realmente importante (e você provou que uma proporção significativa de tempo é gasta nessas funções), você tem a opção de recodificá-las em C (ou em outra linguagem de baixo nível)."
   ]
  }
 ],
 "metadata": {
  "kernelspec": {
   "display_name": "Python 3",
   "language": "python",
   "name": "python3"
  },
  "language_info": {
   "codemirror_mode": {
    "name": "ipython",
    "version": 3
   },
   "file_extension": ".py",
   "mimetype": "text/x-python",
   "name": "python",
   "nbconvert_exporter": "python",
   "pygments_lexer": "ipython3",
   "version": "3.6.1"
  }
 },
 "nbformat": 4,
 "nbformat_minor": 1
}

