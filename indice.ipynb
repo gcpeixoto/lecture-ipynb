{
 "cells": [
  {
   "cell_type": "markdown",
   "metadata": {},
   "source": [
    "## Python para Ciências Computacionais e Engenharia\n",
    "\n",
    "O conteúdo deste livro é distribuído em capítulos, usando um caderno interativo _Jupyter_ para cada capítulo.\n",
    "Caso você ainda não tenha utilizado o _Jupyter_, leia este o restante deste documento antes de prosseguir.\n",
    "\n",
    "Você pode usar os links abaixo para ser redirecionado aos cadernos interativos para não apenas ler o livro, mas também alterar todos os exemplos que desejar.\n",
    "\n",
    "- [01 Introdução](01-introducao.ipynb)\n",
    "- [02 Uma calculadora poderosa](02-calculadora-poderosa.ipynb)\n",
    "- [03 Tipos e estruturas de dados](03-tipos-estruturas-dados.ipynb)\n",
    "- [04 Introspecção](04-introspeccao.ipynb)\n",
    "- [05 Entrada e Saída](05-entrada-saida.ipynb)\n",
    "- [06 Fluxo de controle](06-fluxo-controle.ipynb)\n",
    "- [07 Funções e módulos](07-funcoes-modulos.ipynb)\n",
    "- [08 Ferramentas funcionais](08-ferramentas-funcionais.ipynb)\n",
    "- [09 Tarefas comuns](09-tarefas-comuns.ipynb)\n",
    "- [10 Do Matlab para Python](10-matlab-para-python.ipynb)\n",
    "- [11 _Shells_ para Python](11-shells-python.ipynb)\n",
    "- [12 Computação simbólica](12-computacao-simbolica.ipynb)\n",
    "- [13 Computação numérica](13-computacao-numerica.ipynb)\n",
    "- [14 Python numérico (numpy): _arrays_](14-python-numerico-numpy.ipynb)\n",
    "- [15 Visualização de dados](15-visualizando-dados.ipynb)\n",
    "- [16 Métodos numéricos usando Python (SciPy)](16-metodos-numericos-scipy.ipynb)\n",
    "- [17 Para onde ir a partir daqui?](17-proximos-passos.ipynb)\n",
    "\n",
    "\n",
    "## Usando os cadernos interativos (_notebooks_)\n",
    "\n",
    "Ao abrir um caderno interativo, você verá que poderá mover um bloco destacado (linha azul à esquerda) com as teclas do cursor para mover para cima e para baixo. Este bloco destaca uma célula. (Você também pode usar o mouse \n",
    "para selecionar uma célula.) Isso é chamado de [_modo de comando_](https://jupyter-notebook.readthedocs.io/en/stable/examples/Notebook/Notebook%20Basics.html#Command-mode).\n",
    "\n",
    "### Executando código\n",
    "\n",
    "Se você quiser executar uma célula (por exemplo, uma que contenha algum código Python), você pode pressionar _Shift + ENTER_. Se a célula criar alguma saída, ela será exibida abaixo da célula. \n",
    "\n",
    "### Editando código\n",
    "\n",
    "Se você quiser alterar o código na célula atualmente destacada, você deve pressionar ENTER. Isto mostra que você já entrou no modo de edição e o conteúdo da célula pode ser editado. Ao concluir suas alterações, caso deseje executá-las, use novamente o atalho _Shift + ENTER_. Observe que você também pode editar blocos de texto (ou entrar no [_modo de edição_](https://jupyter-notebook.readthedocs.io/en/stable/examples/Notebook/Notebook%20Basics.html#Edit-mode) de uma célula de texto sem intenção). Basta pressionar _Shift + ENTER_ para renderizar o texto novamente e voltar ao modo de comando.\n",
    "\n",
    "### Atenção: as alterações feitas no _mybinder_ são temporárias\n",
    "\n",
    "Se você usar este livro de texto interativamente no serviço _mybinder_, terá um recurso temporário na nuvem para executar os exemplos de código. As alterações feitas no caderno interativo serão perdidas quando a sua sessão For encerrada (ou seja, quando você fechar a janela ou se a execução do serviço parar de funcionar). Assim, a exploração interativa dos _notebooks_ é uma ótima opção para ajudar na aprendizagem de Python, computação e ciência de dados, mas não é recomendado que você escreva nenhum código nesses blocos de anotações que queira reutilizar no dia seguinte ou posterior.\n",
    "Comentários? Questões?\n",
    "\n",
    "Para comentários, correções e perguntas, consulte a página inicial do livro."
   ]
  }
 ],
 "metadata": {
  "kernelspec": {
   "display_name": "Python 3",
   "language": "python",
   "name": "python3"
  },
  "language_info": {
   "codemirror_mode": {
    "name": "ipython",
    "version": 3
   },
   "file_extension": ".py",
   "mimetype": "text/x-python",
   "name": "python",
   "nbconvert_exporter": "python",
   "pygments_lexer": "ipython3",
   "version": "3.7.3"
  }
 },
 "nbformat": 4,
 "nbformat_minor": 2
}
