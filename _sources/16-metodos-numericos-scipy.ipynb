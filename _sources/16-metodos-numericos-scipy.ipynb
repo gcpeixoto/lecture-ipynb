{
 "cells": [
  {
   "cell_type": "markdown",
   "metadata": {},
   "source": [
    "Métodos numéricos usando Python (SciPy)\n",
    "======================================\n",
    "\n",
    "Visão geral\n",
    "--------\n",
    "\n",
    "O núcleo da linguagem Python (incluindo as bibliotecas padrão) fornece funcionalidades suficiente para realizar as tarefas de pesquisa computacional. No entanto, existem bibliotecas Python dedicadas (de terceiros) que oferecem funcionalidades estendidas:\n",
    "\n",
    "- ferramentas numéricas para tarefas freqüentes\n",
    "\n",
    "- que são convenientes\n",
    "\n",
    "- e mais eficientes em termos de tempo de processamento e requisitos de memória do que as funcionalidades do Python operando sozinhas.\n",
    "\n",
    "Nós enumeramos três desses módulos, em particular:\n",
    "\n",
    "- o módulo NumPy fornece um tipo de dado especializado para operar numericamente com vetores e matrizes (este é o tipo `array` fornecido pelo NumPy) além de ferramentas de álgebra linear.\n",
    "\n",
    "- o módulo Matplotlib (também conhecido como Pylab) fornece recursos de plotagem e visualização e \n",
    "\n",
    "- o módulo `SciPy` (*SCIentific PYthon*), que fornece uma infinidade de algoritmos numéricos (introduzido neste capítulo).\n",
    "\n",
    "Muitos dos algoritmos numéricos disponíveis através do SciPy e NumPy são fornecidos por bibliotecas compiladas estabelecidas que são muitas vezes escritas em Fortran ou C. Eles, por sua vez, serão executados muito mais rápido do que o código Python puro (interpretado). Como regra geral, esperamos que o código compilado seja duas ordens de magnitude mais rápido do que o código Python puro.\n",
    "\n",
    "Você pode usar a função de ajuda para cada método numérico para descobrir mais sobre a origem da implementação.\n",
    "\n",
    "SciPy\n",
    "-----\n",
    "\n",
    "O SciPy é construído com base no NumPy. Toda a funcionalidade do NumPy parece estar disponível também no SciPy. Por exemplo, em vez de:"
   ]
  },
  {
   "cell_type": "code",
   "execution_count": 25,
   "metadata": {
    "collapsed": true
   },
   "outputs": [],
   "source": [
    "import numpy\n",
    "x = numpy.arange(0, 10, 0.1)\n",
    "y = numpy.sin(x)"
   ]
  },
  {
   "cell_type": "markdown",
   "metadata": {},
   "source": [
    "podemos também usar:"
   ]
  },
  {
   "cell_type": "code",
   "execution_count": 26,
   "metadata": {
    "collapsed": true
   },
   "outputs": [],
   "source": [
    "import scipy as s\n",
    "x = s.arange(0, 10, 0.1)\n",
    "y = s.sin(x)"
   ]
  },
  {
   "cell_type": "markdown",
   "metadata": {},
   "source": [
    "Primeiro, precisamos importar o SciPy"
   ]
  },
  {
   "cell_type": "code",
   "execution_count": 27,
   "metadata": {
    "collapsed": true
   },
   "outputs": [],
   "source": [
    "import scipy as s"
   ]
  },
  {
   "cell_type": "markdown",
   "metadata": {},
   "source": [
    "O pacote SciPy fornece informações sobre sua própria estrutura quando usamos o comando de ajuda:\n",
    "\n",
    "```python\n",
    "help(scipy)\n",
    "```"
   ]
  },
  {
   "cell_type": "markdown",
   "metadata": {},
   "source": [
    "A saída é muito longa. Então, estamos mostrando apenas parte dela aqui:\n",
    "\n",
    "    stats       --- Statistical Functions [*]\n",
    "    sparse      --- Sparse matrix [*]\n",
    "    lib         --- Python wrappers to external libraries [*]\n",
    "    linalg      --- Linear algebra routines [*]\n",
    "    signal      --- Signal Processing Tools [*]\n",
    "    misc        --- Various utilities that don't have another home.\n",
    "    interpolate --- Interpolation Tools [*]\n",
    "    optimize    --- Optimization Tools [*]\n",
    "    cluster     --- Vector Quantization / Kmeans [*]\n",
    "    fftpack     --- Discrete Fourier Transform algorithms [*]\n",
    "    io          --- Data input and output [*]\n",
    "    integrate   --- Integration routines [*]\n",
    "    lib.lapack  --- Wrappers to LAPACK library [*]\n",
    "    special     --- Special Functions [*]\n",
    "    lib.blas    --- Wrappers to BLAS library [*]\n",
    "      [*] - using a package requires explicit import (see pkgload)"
   ]
  },
  {
   "cell_type": "markdown",
   "metadata": {},
   "source": [
    "Se estivermos procurando por um algoritmo para integrar uma função, podemos explorar o pacote `integrate`:"
   ]
  },
  {
   "cell_type": "markdown",
   "metadata": {},
   "source": [
    "```python\n",
    "import scipy.integrate\n",
    "\n",
    "scipy.integrate?\n",
    "```"
   ]
  },
  {
   "cell_type": "markdown",
   "metadata": {},
   "source": [
    "produz:\n",
    "\n",
    "```text\n",
    "=============================================\n",
    "Integration and ODEs (:mod:`scipy.integrate`)\n",
    "=============================================\n",
    "\n",
    ".. currentmodule:: scipy.integrate\n",
    "\n",
    "Integrating functions, given function object\n",
    "============================================\n",
    "\n",
    ".. autosummary::\n",
    "   :toctree: generated/\n",
    "\n",
    "   quad          -- General purpose integration\n",
    "   dblquad       -- General purpose double integration\n",
    "   tplquad       -- General purpose triple integration\n",
    "   nquad         -- General purpose n-dimensional integration\n",
    "   fixed_quad    -- Integrate func(x) using Gaussian quadrature of order n\n",
    "   quadrature    -- Integrate with given tolerance using Gaussian quadrature\n",
    "   romberg       -- Integrate func using Romberg integration\n",
    "   quad_explain  -- Print information for use of quad\n",
    "   newton_cotes  -- Weights and error coefficient for Newton-Cotes integration\n",
    "   IntegrationWarning -- Warning on issues during integration\n",
    "\n",
    "Integrating functions, given fixed samples\n",
    "==========================================\n",
    "\n",
    ".. autosummary::\n",
    "   :toctree: generated/\n",
    "\n",
    "   trapz         -- Use trapezoidal rule to compute integral.\n",
    "   cumtrapz      -- Use trapezoidal rule to cumulatively compute integral.\n",
    "   simps         -- Use Simpson's rule to compute integral from samples.\n",
    "   romb          -- Use Romberg Integration to compute integral from\n",
    "                 -- (2**k + 1) evenly-spaced samples.\n",
    "\n",
    ".. seealso::\n",
    "\n",
    "   :mod:`scipy.special` for orthogonal polynomials (special) for Gaussian\n",
    "   quadrature roots and weights for other weighting factors and regions.\n",
    "\n",
    "Integrators of ODE systems\n",
    "==========================\n",
    "\n",
    ".. autosummary::\n",
    "   :toctree: generated/\n",
    "\n",
    "   odeint        -- General integration of ordinary differential equations.\n",
    "   ode           -- Integrate ODE using VODE and ZVODE routines.\n",
    "   complex_ode   -- Convert a complex-valued ODE to real-valued and integrate.\n",
    "```"
   ]
  },
  {
   "cell_type": "markdown",
   "metadata": {},
   "source": [
    "As seções seguintes mostram exemplos que demonstram como empregar os algoritmos fornecidos pelo SciPy.\n",
    "\n",
    "Integração numérica\n",
    "---------------------\n",
    "\n",
    "O SciPy fornece uma série de rotinas de integração. Uma ferramenta com a finalidade de resolver integrais $I$ do tipo\n",
    "$$I = \\int_a^b f(x) \\, dx$$\n",
    "é fornecida pela função `quad()` do módulo `scipy.integrate`.\n",
    "\n",
    "Ela usa como argumento de entrada, a função a ser integrada $f(x)$ (\"integrando\") e os limites inferior $a$ e superior $b$. Ela retorna dois valores (em uma tupla): o primeiro é o resultado calculado e o segundo é uma estimativa do erro numérico desse resultado.\n",
    "\n",
    "Aqui está um exemplo que produz esta saída:"
   ]
  },
  {
   "cell_type": "code",
   "execution_count": 1,
   "metadata": {},
   "outputs": [
    {
     "name": "stdout",
     "output_type": "stream",
     "text": [
      "O resultado numérico é 17.864264 (+-1.55113e-11)\n"
     ]
    }
   ],
   "source": [
    "from math import cos, exp, pi\n",
    "from scipy.integrate import quad\n",
    "\n",
    "# função a ser integrada\n",
    "def f(x):\n",
    "    return exp(cos(-2 * x * pi)) + 3.2\n",
    "\n",
    "# chamamos quad para integrar f de -2 a 2\n",
    "res, err = quad(f, -2, 2)\n",
    "\n",
    "print(\"O resultado numérico é {:f} (+-{:g})\".format(res, err))"
   ]
  },
  {
   "cell_type": "markdown",
   "metadata": {},
   "source": [
    "Note que `quad()` usa os parâmetros opcionais `epsabs` e `epsrel` para aumentar ou diminuir a precisão de sua computação. (Use `help(quad)` para saber mais.) Os valores padrão são `epsabs = 1.5e-8` e `epsrel = 1.5e-8`. Para o próximo exercício, os valores padrão são suficientes.\n",
    "\n",
    "### Exercício: integrar uma função\n",
    "\n",
    "1. Usando a função `quad` do SciPy, escreva um programa que resolva numericamente o seguinte: $I = \\int_0^1 \\cos(2\\pi x) \\, dx$.\n",
    "\n",
    "2. Encontre a integral analítica e compare-a com a solução numérica.\n",
    "\n",
    "3. Por que é importante ter uma estimativa da precisão (ou o erro) da integral numérica?"
   ]
  },
  {
   "cell_type": "markdown",
   "metadata": {},
   "source": [
    "### Exercício: plote antes de integrar\n",
    "\n",
    "É uma boa prática plotar a função integrando para verificar se ela é \"bem comportada\" antes de tentar integrá-la. Singularidades (ou seja, valores de $x$ para os quais $f(x)$ tende para menos ou mais infinito) ou outro comportamento irregular (como $f(x) = \\sin(\\frac{1}{x}$) perto de $x = 0$) são difíceis de manusear numericamente.\n",
    "\n",
    "1. Escreva uma função com o nome `plotquad` que leva os mesmos argumentos que o comando quad (i.e. $f$, $a$ e $b$) e que\n",
    "- (i) crie um gráfico do integrando $f(x)$ e\n",
    "- (ii) calcule a integral numérica usando a função `quad`. Os valores de retorno devem ser como aqueles para a função `quad`."
   ]
  },
  {
   "cell_type": "markdown",
   "metadata": {},
   "source": [
    "Resolvendo equações diferenciais ordinárias (EDOs)\n",
    "---------------------------------------\n",
    "\n",
    "Para resolver uma EDO do tipo\n",
    "$$\\frac{dy}{dt}(t) = f(y,t)$$\n",
    "\n",
    "com uma dada condição inicial $y(t_0) = y_0$, podemos usar a função `odeint` do SciPy. Aqui está um programa de exemplo auto-explicativo (`useodeint.py`) para encontar\n",
    "\n",
    "$$y(t) \\quad \\mathrm{para} \\quad t \\in [0,2]$$\n",
    "dada a EDO :\n",
    "$$\\frac{dy}{dt}(t) = -2yt \\quad \\mathrm{com} \\quad y(0) = 1.$$"
   ]
  },
  {
   "cell_type": "code",
   "execution_count": 2,
   "metadata": {},
   "outputs": [
    {
     "data": {
      "text/plain": [
       "<matplotlib.text.Text at 0x1128f51d0>"
      ]
     },
     "execution_count": 2,
     "metadata": {},
     "output_type": "execute_result"
    },
    {
     "data": {
      "image/png": "[encoded data removed]",
      "text/plain": [
       "<matplotlib.figure.Figure at 0x11280f4e0>"
      ]
     },
     "metadata": {},
     "output_type": "display_data"
    }
   ],
   "source": [
    "%matplotlib inline\n",
    "from scipy.integrate import odeint\n",
    "import numpy as N\n",
    "\n",
    "def f(y, t):\n",
    "    \"\"\"este é o lado direito da EDO a ser integrada, i.e. dy/dt = f(y,t)\"\"\"\n",
    "    return -2 * y * t\n",
    "\n",
    "y0 = 1             # valor inicial\n",
    "a = 0              # limites de integração para t\n",
    "b = 2\n",
    "\n",
    "t = N.arange(a, b, 0.01)  # valores de t para\n",
    "                          # os quais queremos\n",
    "                          # a solução y(t)\n",
    "y = odeint(f, y0, t)  # cálculo de y(t)\n",
    "\n",
    "import pylab          # plotagem dos resultados\n",
    "pylab.plot(t, y)\n",
    "pylab.xlabel('t'); pylab.ylabel('y(t)')"
   ]
  },
  {
   "cell_type": "markdown",
   "metadata": {},
   "source": [
    "O comando `odeint` usa uma série de parâmetros opcionais para alterar a tolerância padrão de erro da integração (e para acionar a produção de saída de depuração). Use o comando de ajuda para explorá-los:"
   ]
  },
  {
   "cell_type": "markdown",
   "metadata": {},
   "source": [
    "```python\n",
    "help(scipy.integrate.odeint)\n",
    "```\n",
    "\n",
    "irá mostrar:\n",
    "\n",
    "```\n",
    "Help on function odeint in module scipy.integrate.odepack:\n",
    "\n",
    "odeint(func, y0, t, args=(), Dfun=None, col_deriv=0, full_output=0, ml=None, mu=None, rtol=None, atol=None, tcrit=None, h0=0.0, hmax=0.0, hmin=0.0, ixpr=0, mxstep=0, mxhnil=0, mxordn=12, mxords=5, printmessg=0)\n",
    "    Integrate a system of ordinary differential equations.\n",
    "    \n",
    "    Solve a system of ordinary differential equations using lsoda from the\n",
    "    FORTRAN library odepack.\n",
    "    \n",
    "    Solves the initial value problem for stiff or non-stiff systems\n",
    "    of first order ode-s::\n",
    "    \n",
    "        dy/dt = func(y, t0, ...)\n",
    "    \n",
    "    where y can be a vector.\n",
    "    \n",
    "    *Note*: The first two arguments of ``func(y, t0, ...)`` are in the\n",
    "    opposite order of the arguments in the system definition function used\n",
    "    by the `scipy.integrate.ode` class.\n",
    "    \n",
    "    Parameters\n",
    "    ----------\n",
    "    func : callable(y, t0, ...)\n",
    "        Computes the derivative of y at t0.\n",
    "    y0 : array\n",
    "        Initial condition on y (can be a vector).\n",
    "    t : array\n",
    "        A sequence of time points for which to solve for y.  The initial\n",
    "        value point should be the first element of this sequence.\n",
    "    args : tuple, optional\n",
    "        Extra arguments to pass to function.\n",
    "    Dfun : callable(y, t0, ...)\n",
    "        Gradient (Jacobian) of `func`.\n",
    "    col_deriv : bool, optional\n",
    "        True if `Dfun` defines derivatives down columns (faster),\n",
    "        otherwise `Dfun` should define derivatives across rows.\n",
    "    full_output : bool, optional\n",
    "        True if to return a dictionary of optional outputs as the second output\n",
    "    printmessg : bool, optional\n",
    "        Whether to print the convergence message\n",
    "    \n",
    "    Returns\n",
    "    -------\n",
    "    y : array, shape (len(t), len(y0))\n",
    "        Array containing the value of y for each desired time in t,\n",
    "        with the initial value `y0` in the first row.\n",
    "    infodict : dict, only returned if full_output == True\n",
    "        Dictionary containing additional output information\n",
    "    \n",
    "        =======  ============================================================\n",
    "        key      meaning\n",
    "        =======  ============================================================\n",
    "        'hu'     vector of step sizes successfully used for each time step.\n",
    "        'tcur'   vector with the value of t reached for each time step.\n",
    "                 (will always be at least as large as the input times).\n",
    "        'tolsf'  vector of tolerance scale factors, greater than 1.0,\n",
    "                 computed when a request for too much accuracy was detected.\n",
    "        'tsw'    value of t at the time of the last method switch\n",
    "                 (given for each time step)\n",
    "        'nst'    cumulative number of time steps\n",
    "        'nfe'    cumulative number of function evaluations for each time step\n",
    "        'nje'    cumulative number of jacobian evaluations for each time step\n",
    "        'nqu'    a vector of method orders for each successful step.\n",
    "        'imxer'  index of the component of largest magnitude in the\n",
    "                 weighted local error vector (e / ewt) on an error return, -1\n",
    "                 otherwise.\n",
    "        'lenrw'  the length of the double work array required.\n",
    "        'leniw'  the length of integer work array required.\n",
    "        'mused'  a vector of method indicators for each successful time step:\n",
    "                 1: adams (nonstiff), 2: bdf (stiff)\n",
    "        =======  ============================================================\n",
    "    \n",
    "    Other Parameters\n",
    "    ----------------\n",
    "    ml, mu : int, optional\n",
    "        If either of these are not None or non-negative, then the\n",
    "        Jacobian is assumed to be banded.  These give the number of\n",
    "        lower and upper non-zero diagonals in this banded matrix.\n",
    "        For the banded case, `Dfun` should return a matrix whose\n",
    "        rows contain the non-zero bands (starting with the lowest diagonal).\n",
    "        Thus, the return matrix `jac` from `Dfun` should have shape\n",
    "        ``(ml + mu + 1, len(y0))`` when ``ml >=0`` or ``mu >=0``.\n",
    "        The data in `jac` must be stored such that ``jac[i - j + mu, j]``\n",
    "        holds the derivative of the `i`th equation with respect to the `j`th\n",
    "        state variable.  If `col_deriv` is True, the transpose of this\n",
    "        `jac` must be returned.\n",
    "    rtol, atol : float, optional\n",
    "        The input parameters `rtol` and `atol` determine the error\n",
    "        control performed by the solver.  The solver will control the\n",
    "        vector, e, of estimated local errors in y, according to an\n",
    "        inequality of the form ``max-norm of (e / ewt) <= 1``,\n",
    "        where ewt is a vector of positive error weights computed as\n",
    "        ``ewt = rtol * abs(y) + atol``.\n",
    "        rtol and atol can be either vectors the same length as y or scalars.\n",
    "        Defaults to 1.49012e-8.\n",
    "    tcrit : ndarray, optional\n",
    "        Vector of critical points (e.g. singularities) where integration\n",
    "        care should be taken.\n",
    "    h0 : float, (0: solver-determined), optional\n",
    "        The step size to be attempted on the first step.\n",
    "    hmax : float, (0: solver-determined), optional\n",
    "        The maximum absolute step size allowed.\n",
    "    hmin : float, (0: solver-determined), optional\n",
    "        The minimum absolute step size allowed.\n",
    "    ixpr : bool, optional\n",
    "        Whether to generate extra printing at method switches.\n",
    "    mxstep : int, (0: solver-determined), optional\n",
    "        Maximum number of (internally defined) steps allowed for each\n",
    "        integration point in t.\n",
    "    mxhnil : int, (0: solver-determined), optional\n",
    "        Maximum number of messages printed.\n",
    "    mxordn : int, (0: solver-determined), optional\n",
    "        Maximum order to be allowed for the non-stiff (Adams) method.\n",
    "    mxords : int, (0: solver-determined), optional\n",
    "        Maximum order to be allowed for the stiff (BDF) method.\n",
    "    \n",
    "    See Also\n",
    "    --------\n",
    "    ode : a more object-oriented integrator based on VODE.\n",
    "    quad : for finding the area under a curve.\n",
    "    \n",
    "    Examples\n",
    "    --------\n",
    "    The second order differential equation for the angle `theta` of a\n",
    "    pendulum acted on by gravity with friction can be written::\n",
    "    \n",
    "        theta''(t) + b*theta'(t) + c*sin(theta(t)) = 0\n",
    "    \n",
    "    where `b` and `c` are positive constants, and a prime (') denotes a\n",
    "    derivative.  To solve this equation with `odeint`, we must first convert\n",
    "    it to a system of first order equations.  By defining the angular\n",
    "    velocity ``omega(t) = theta'(t)``, we obtain the system::\n",
    "    \n",
    "        theta'(t) = omega(t)\n",
    "        omega'(t) = -b*omega(t) - c*sin(theta(t))\n",
    "    \n",
    "    Let `y` be the vector [`theta`, `omega`].  We implement this system\n",
    "    in python as:\n",
    "    \n",
    "    >>> def pend(y, t, b, c):\n",
    "    ...     theta, omega = y\n",
    "    ...     dydt = [omega, -b*omega - c*np.sin(theta)]\n",
    "    ...     return dydt\n",
    "    ...\n",
    "    \n",
    "    We assume the constants are `b` = 0.25 and `c` = 5.0:\n",
    "    \n",
    "    >>> b = 0.25\n",
    "    >>> c = 5.0\n",
    "    \n",
    "    For initial conditions, we assume the pendulum is nearly vertical\n",
    "    with `theta(0)` = `pi` - 0.1, and it initially at rest, so\n",
    "    `omega(0)` = 0.  Then the vector of initial conditions is\n",
    "    \n",
    "    >>> y0 = [np.pi - 0.1, 0.0]\n",
    "    \n",
    "    We generate a solution 101 evenly spaced samples in the interval\n",
    "    0 <= `t` <= 10.  So our array of times is:\n",
    "    \n",
    "    >>> t = np.linspace(0, 10, 101)\n",
    "    \n",
    "    Call `odeint` to generate the solution.  To pass the parameters\n",
    "    `b` and `c` to `pend`, we give them to `odeint` using the `args`\n",
    "    argument.\n",
    "    \n",
    "    >>> from scipy.integrate import odeint\n",
    "    >>> sol = odeint(pend, y0, t, args=(b, c))\n",
    "    \n",
    "    The solution is an array with shape (101, 2).  The first column\n",
    "    is `theta(t)`, and the second is `omega(t)`.  The following code\n",
    "    plots both components.\n",
    "    \n",
    "    >>> import matplotlib.pyplot as plt\n",
    "    >>> plt.plot(t, sol[:, 0], 'b', label='theta(t)')\n",
    "    >>> plt.plot(t, sol[:, 1], 'g', label='omega(t)')\n",
    "    >>> plt.legend(loc='best')\n",
    "    >>> plt.xlabel('t')\n",
    "    >>> plt.grid()\n",
    "    >>> plt.show()\n",
    "\n",
    "```"
   ]
  },
  {
   "cell_type": "markdown",
   "metadata": {},
   "source": [
    "### Exercício: usando `odeint`\n",
    "\n",
    "1. Abra um novo arquivo com o nome `testeEDOInt.py` em um editor de texto.\n",
    "\n",
    "2. Escreva um programa que calcule a solução $y(t)$ da EDO seguinte usando o algoritmo `odeint`:\n",
    "     $$\\frac{dy}{dt} = -\\exp(-t)(10 \\sin(10t) + \\cos (10t))$$\n",
    "      De $t = 0$ a $t = 10$. O valor inicial é $y(0) = 1$.\n",
    "\n",
    "3. Você deve exibir a solução graficamente nos pontos $t = 0$, $t = 0.01$, $t = 0.02$, ..., $t = 9.99$, $t = 10$."
   ]
  },
  {
   "cell_type": "markdown",
   "metadata": {},
   "source": [
    "Localização de raízes\n",
    "------------\n",
    "\n",
    "Se você tentar encontrar um $x$ tal que\n",
    "$$f (x) = 0,$$\n",
    "então este é um problema chamado de *localização de raízes*. Observe que problemas como $g(x) = h(x)$ caem nesta categoria, pois você pode reescrevê-los como $f(x) = g(x) - h(x) = 0$.\n",
    "\n",
    "Várias ferramentas para localização de raízes estão disponíveis no módulo `optimize` do SciPy.\n",
    "\n",
    "### Localização de raiz pelo método de bisecção\n",
    "\n",
    "Primeiro, apresentamos o algoritmo `bisect`, que é (i) robusto e (ii) lento, mas conceitualmente muito simples.\n",
    "\n",
    "Suponhamos que precisemos calcular as raízes de $f(x) = x^3 - 2x^2$. Esta função tem uma raiz dupla em $x = 0$ (isto é trivial de ver) e outra raiz localizada entre $x = 1.5$ (pois $f(1.5) = - 1.125$) e $x = 3$ (pois $f(3) = 9$). É direto ver que esta outra raiz está localizada em $x = 2$. Aqui está um programa que determina esta raiz numericamente:"
   ]
  },
  {
   "cell_type": "code",
   "execution_count": 3,
   "metadata": {},
   "outputs": [
    {
     "name": "stdout",
     "output_type": "stream",
     "text": [
      "A raiz x é aproximadamente x= 2.00000023842,\n",
      "o erro é menor do que 1e-6.\n",
      "O erro exato é -2.38419e-07.\n"
     ]
    }
   ],
   "source": [
    "from scipy.optimize import bisect\n",
    "\n",
    "def f(x):\n",
    "    \"\"\"retorna f(x) = x^3 - 2x^2. Tem raízes em\n",
    "    x = 0 (raiz dupla) e x = 2\"\"\"\n",
    "    return x ** 3 - 2 * x ** 2\n",
    "\n",
    "# o programa principal começa aqui\n",
    "x = bisect(f, 1.5, 3, xtol=1e-6)\n",
    "\n",
    "print(\"A raiz x é aproximadamente x=%14.12g,\\n\"\n",
    "      \"o erro é menor do que 1e-6.\" % (x))\n",
    "print(\"O erro exato é %g.\" % (2 - x))"
   ]
  },
  {
   "cell_type": "markdown",
   "metadata": {},
   "source": [
    "O método `bisect()` requer três argumentos obrigatórios: (i) a função $f(x)$, (ii) um limite inferior $a$ (para o qual escolhemos 1.5 no nosso exemplo) e (ii) um limite superior $b$ (para o qual escolhemos 3). O parâmetro opcional `xtol` determina o erro máximo do método.\n",
    "\n",
    "Um dos requisitos do método da bisecção é que o intervalo $[a,b]$ deve ser escolhido de tal forma que a função seja positiva em $a$ e negativa em $b$, ou que a função seja negativa em $a$ e positiva em $b$. Em outras palavras, $a$ e $b$ devem incluir uma raiz.\n",
    "\n",
    "### Exercício: localização de raízes usando o método `bisect`\n",
    "\n",
    "1. Escreva um programa com o nome `sqrt2.py` para determinar uma aproximação para $\\sqrt{2}$ encontrando uma raiz $x$ da função $f(x) = 2-x^2$ usando o algoritmo da bisecção. Escolha uma tolerância para a aproximação da raiz de $10^{-8}$.\n",
    "\n",
    "2. Documente a sua escolha do intervalo inicial $[a, b]$ para a busca da raiz: quais valores você escolheu para $a$ e $b$. Por quê?\n",
    "\n",
    "3. Estude os resultados:\n",
    "\n",
    "    - Que valor o algoritmo de bisecção retorna para a raiz $x$?\n",
    "\n",
    "    - Calcule o valor de $\\sqrt{2}$ usando `math.sqrt(2)` e compare-o com a aproximação da raiz. Quão grande é o erro absoluto de $x$? Como isso se compara com `xtol`?"
   ]
  },
  {
   "cell_type": "markdown",
   "metadata": {},
   "source": [
    "### Localização de raízes usando a função `fsolve`\n",
    "\n",
    "Um algoritmo (frequentemente) melhor (no sentido de \"mais eficiente\") do que o algoritmo da bisecção é implementado na função generalizada `fsolve()` para a localização de raízes de funções (multidimensionais). Este algoritmo precisa apenas de um ponto de partida próximo à provável localização da raiz (mas não possui convergência garantida).\n",
    "\n",
    "Aqui está um exemplo:"
   ]
  },
  {
   "cell_type": "code",
   "execution_count": 4,
   "metadata": {},
   "outputs": [
    {
     "name": "stdout",
     "output_type": "stream",
     "text": [
      "A raiz x é aproximadamente x= 2.000000000000006661\n",
      "O erro exato é -6.66134e-15.\n"
     ]
    }
   ],
   "source": [
    "from scipy.optimize import fsolve\n",
    "\n",
    "def f(x):\n",
    "    return x ** 3 - 2 * x ** 2\n",
    "\n",
    "x = fsolve(f, 3)           # one root is at x=2.0\n",
    "\n",
    "print(\"A raiz x é aproximadamente x=%21.19g\" % x)\n",
    "print(\"O erro exato é %g.\" % (2 - x))"
   ]
  },
  {
   "cell_type": "markdown",
   "metadata": {},
   "source": [
    "O valor de retorno [6] de `fsolve` é uma matriz numpy de comprimento $n$ para um problema de localização de raízes com $n$ variáveis. No exemplo acima, temos $n = 1$.\n",
    "\n",
    "Interpolação\n",
    "-------------\n",
    "\n",
    "Dado um conjunto de $N$ pontos $(x_i, y_i)$ com $i = 1, 2, \\dots, N$, às vezes precisamos de uma função $\\hat{f}(x)$ que retorne $y_i = f(x_i)$ e que, além disso, forneça alguma interpolação dos dados $(x_i, y_i)$ para todo $x$.\n",
    "\n",
    "A função `y0 = scipy.interpolate.interp1d (x, y, kind = 'nearest')` realiza esta interpolação baseada em *splines* de ordem variável. Observe que a função `interp1d` retorna *uma função* `y0` que irá então interpolar os dados x-y para qualquer dado $x$ quando chamado como `y0(x)`.\n",
    "\n",
    "O código abaixo mostra isso, bem como os diferentes tipos de interpolação."
   ]
  },
  {
   "cell_type": "code",
   "execution_count": 32,
   "metadata": {},
   "outputs": [
    {
     "data": {
      "text/plain": [
       "<matplotlib.text.Text at 0x11223be80>"
      ]
     },
     "execution_count": 32,
     "metadata": {},
     "output_type": "execute_result"
    },
    {
     "data": {
      "image/png": "[encoded data removed]",
      "text/plain": [
       "<matplotlib.figure.Figure at 0x112187748>"
      ]
     },
     "metadata": {},
     "output_type": "display_data"
    }
   ],
   "source": [
    "import numpy as np\n",
    "import scipy.interpolate\n",
    "import pylab\n",
    "\n",
    "def cria_dados(n):\n",
    "    \"\"\"Dado um inteiro n, retorne n pontos\n",
    "    x e valores y como um numpy.array.\"\"\"\n",
    "    xmax = 5.\n",
    "    x = np.linspace(0, xmax, n)\n",
    "    y = - x**2\n",
    "    \n",
    "    # faça os dados dos pontos x um tanto irregulares\n",
    "    y += 1.5 * np.random.normal(size=len(x))\n",
    "    return x, y\n",
    "\n",
    "# programa principal\n",
    "n = 10\n",
    "x, y = cria_dados(n)\n",
    "\n",
    "# usa uma malha mais fina e irregular para a plotagem\n",
    "xfine = np.linspace(0.1, 4.9, n * 100)\n",
    "\n",
    "# interpola com função constante por partes (p=0)\n",
    "y0 = scipy.interpolate.interp1d(x, y, kind='nearest')\n",
    "\n",
    "# interpola com função linear por partes (p=1)\n",
    "y1 = scipy.interpolate.interp1d(x, y, kind='linear')\n",
    "\n",
    "# interpola com função quadrática por partes (p=2)\n",
    "y2 = scipy.interpolate.interp1d(x, y, kind='quadratic')\n",
    "\n",
    "pylab.plot(x, y, 'o', label='dados')\n",
    "pylab.plot(xfine, y0(xfine), label='constante')\n",
    "pylab.plot(xfine, y1(xfine), label='linear')\n",
    "pylab.plot(xfine, y2(xfine), label='quadrática')\n",
    "pylab.legend()\n",
    "pylab.xlabel('x')"
   ]
  },
  {
   "cell_type": "markdown",
   "metadata": {},
   "source": [
    "Ajuste de curva\n",
    "-------------\n",
    "\n",
    "Já vimos que podemos ajustar funções polinomiais a um conjunto de dados usando a função `numpy.polyfit`. Aqui, apresentamos um algoritmo de ajuste de curva mais genérico.\n",
    "\n",
    "O SciPy fornece uma função um pouco genérica (baseada no algoritmo de Levenberg-Marquardt) através do `scipy.optimize.curve_fit` para ajustar uma determinada função (Python) a um conjunto de dados. O pressuposto é que temos um conjunto de dados com pontos $x_1, x_2, ... x_N$ e com valores de função correspondentes $y_i$ dependentes de $x_i$, tal que $y_i = f(x_i,\\textbf{p})$. Queremos determinar o vetor de parâmetros $\\textbf{p} = (p_1, p_2, \\dots, p_k)$ para que $r$, a soma dos resíduos, seja a menor possível:\n",
    "\n",
    "$$r = \\sum \\limits_{i = 1}^N \\left (y_i - f(x_i,\\textbf{p}) \\right)^2$$\n",
    "\n",
    "O ajuste da curva é de uso particular se os dados forem contaminados por ruídos: para um dado $x_i$ e $y_i = f(x_i, \\textbf{p})$, temos um termo de erro (desconhecido) $\\epsilon_i$ para que $y_i = f(x_i,\\textbf{p}) + \\epsilon_i$.\n",
    "\n",
    "Utilizamos o seguinte exemplo para esclarecer isso:\n",
    "$$f(x,\\textbf{p}) = a \\exp(-bx) + c, \\quad \\mathrm{i.e.} \\quad \\textbf{p} = (a, b, c)$$"
   ]
  },
  {
   "cell_type": "code",
   "execution_count": 5,
   "metadata": {},
   "outputs": [
    {
     "name": "stdout",
     "output_type": "stream",
     "text": [
      "Os parâmetros ótimos são a=2.26288, b=1.50872, and c=0.605159\n"
     ]
    },
    {
     "data": {
      "text/plain": [
       "<matplotlib.legend.Legend at 0x112abb908>"
      ]
     },
     "execution_count": 5,
     "metadata": {},
     "output_type": "execute_result"
    },
    {
     "data": {
      "image/png": "[encoded data removed]",
      "text/plain": [
       "<matplotlib.figure.Figure at 0x11296f470>"
      ]
     },
     "metadata": {},
     "output_type": "display_data"
    }
   ],
   "source": [
    "import numpy as np\n",
    "from scipy.optimize import curve_fit\n",
    "\n",
    "\n",
    "def f(x, a, b, c):\n",
    "    \"\"\"Ajusta função  y=f(x,p) com parâmetros p=(a,b,c). \"\"\"\n",
    "    return a * np.exp(- b * x) + c\n",
    "\n",
    "# cria dados aleatórios\n",
    "x = np.linspace(0, 4, 50)\n",
    "y = f(x, a=2.5, b=1.3, c=0.5)\n",
    "\n",
    "# adiciona ruído\n",
    "yi = y + 0.2 * np.random.normal(size=len(x))\n",
    "\n",
    "# chama a função de ajuste\n",
    "popt, pcov = curve_fit(f, x, yi)\n",
    "a, b, c = popt\n",
    "print(\"Os parâmetros ótimos são a=%g, b=%g, and c=%g\" % (a, b, c))\n",
    "\n",
    "# plotagem\n",
    "import pylab\n",
    "yfitted = f(x, *popt)   # equivalente a f(x, popt[0], popt[1], popt[2])\n",
    "pylab.plot(x, yi, 'o', label='dados $y_i$')\n",
    "pylab.plot(x, yfitted, '-', label='ajuste $f(x_i)$')\n",
    "pylab.xlabel('x')\n",
    "pylab.legend()"
   ]
  },
  {
   "cell_type": "markdown",
   "metadata": {},
   "source": [
    "Observe que no código-fonte acima, definimos a função de ajuste $y = f(x)$ através do código Python. Podemos, portanto, ajustar funções (quase) arbitrárias usando o método `curve_fit`.\n",
    "\n",
    "A função `curve_fit` retorna uma tupla `popt, pcov`. A primeira entrada `popt` contém uma tupla dos parâmetros ótimos (no sentido de que estes minimizam o valor $r$). A segunda entrada contém a matriz de covariância para todos os parâmetros. As diagonais fornecem a variância dos parâmetro estimados.\n",
    "\n",
    "Para que o processo de ajuste de curva funcione, o algoritmo de Levenberg-Marquardt precisa iniciar o processo de ajuste com palpites iniciais para os parâmetros finais. Se estes não forem especificados (como no exemplo acima), o valor \"1.0\" é usado para o palpite inicial.\n",
    "\n",
    "Se o algoritmo falhar em obter uma função para os dados (mesmo que a função descreva os dados razoavelmente), precisamos dar ao algoritmo melhores estimativas para os parâmetros iniciais. Para o exemplo mostrado acima, podemos dar as estimativas para a função `curve_fit` mudando a linha\n",
    "\n",
    "```python\n",
    "Popt, pcov = curve_fit (f, x, yi)\n",
    "```\n",
    "para\n",
    "\n",
    "```python\n",
    "Popt, pcov = curve_fit (f, x, yi, p0 = (2,1,0.6))\n",
    "```"
   ]
  },
  {
   "cell_type": "markdown",
   "metadata": {},
   "source": [
    "se nossos palpites iniciais fossem $a = 2$, $b = 1$ e $c = 0.6$. Uma vez que tomamos o algoritmo \"aproximadamente na área correta\" no espaço de parâmetros, o ajuste geralmente funciona bem.\n",
    "\n",
    "Transformadas de Fourier\n",
    "------------------\n",
    "\n",
    "No exemplo seguinte, criamos um sinal como uma superposição de uma onda senoidal de 50 Hz e 70 Hz (com uma ligeira mudança de fase entre eles). Então, aplicamos a transformada de Fourier no sinal e plotamos o valor absoluto dos coeficientes (complexos) da transformada discreta de Fourier pela freqüência. Esperamos ver picos em 50Hz e 70Hz."
   ]
  },
  {
   "cell_type": "code",
   "execution_count": 34,
   "metadata": {},
   "outputs": [
    {
     "data": {
      "text/plain": [
       "<matplotlib.text.Text at 0x1124df208>"
      ]
     },
     "execution_count": 34,
     "metadata": {},
     "output_type": "execute_result"
    },
    {
     "data": {
      "image/png": "[encoded data removed]",
      "text/plain": [
       "<matplotlib.figure.Figure at 0x112248f98>"
      ]
     },
     "metadata": {},
     "output_type": "display_data"
    }
   ],
   "source": [
    "import scipy\n",
    "import matplotlib.pyplot as plt\n",
    "pi = scipy.pi\n",
    "\n",
    "signal_length = 0.5   # [segundos]\n",
    "sample_rate=500       # taxa de amostragem [Hz]\n",
    "dt = 1./sample_rate   # tempo entre as duas amostras[s]\n",
    "\n",
    "df = 1/signal_length  # frequência entre pontos\n",
    "                      # no domínio da frequência [Hz] \n",
    "t=scipy.arange(0,signal_length,dt) # vetor tempo\n",
    "n_t=len(t)            # comprimento do vetor de tempo\n",
    "\n",
    "# cria sinal\n",
    "y=scipy.sin(2*pi*50*t)+scipy.sin(2*pi*70*t+pi/4)\n",
    "\n",
    "# calcula a transformada de Fourier\n",
    "f=scipy.fft(y)\n",
    "\n",
    "# opera sobre as frequências significativas na transformada de Fourier\n",
    "freqs=df*scipy.arange(0,(n_t-1)/2.,dtype='d') # d = float com precisão dupla\n",
    "n_freq=len(freqs)\n",
    "\n",
    "# plota dados de entrada x tempo\n",
    "plt.subplot(2,1,1)\n",
    "plt.plot(t,y,label='dados de entrada')\n",
    "plt.xlabel('tempo [s]')\n",
    "plt.ylabel('sinal')\n",
    "\n",
    "# plota espectro de frequências\n",
    "plt.subplot(2,1,2)\n",
    "plt.plot(freqs,abs(f[0:n_freq]),\n",
    "         label='abs(transformada Fourier)')\n",
    "plt.xlabel('frequência [Hz]')\n",
    "plt.ylabel('abs(DFT(sinal))')"
   ]
  },
  {
   "cell_type": "markdown",
   "metadata": {},
   "source": [
    "O gráfico inferior mostra a transformada discreta de Fourier (DFT) calculada a partir dos dados mostrados no gráfico superior."
   ]
  },
  {
   "cell_type": "markdown",
   "metadata": {},
   "source": [
    "Otimização\n",
    "------------\n",
    "\n",
    "Muitas vezes precisamos encontrar o máximo ou mínimo de uma função particular $f(x)$, onde $f$ é uma função escalar, mas $x$ poderia ser um vetor. As aplicações típicas são a minimização de algumas variáveis, tais como custo, risco e erro, ou a maximização de produtividade, eficiência e lucro. Rotinas de otimização normalmente fornecem um método para minimizar uma determinada função: se precisamos maximizar $f(x)$, criamos uma nova função $g(x)$ que inverte o sinal de $f$, ou seja, $g(x) = - f(x)$ e minimizamos $g(x)$.\n",
    "\n",
    "Abaixo, damos um exemplo mostrando (i) a definição da função de teste e (ii) a chamada da função `scipy.optimize.fmin`, que toma como argumento a função $f$ a ser minimizada e um valor inicial $x_0$ a partir do qual se inicia a busca pelo mínimo, e retorna o valor de $x$ para o qual $f(x)$ é (localmente) minimizado. Normalmente, a busca pelo mínimo é uma busca local, i.e, o algoritmo segue o gradiente local. Nós repetimos a busca pelo mínimo para dois valores ($x_0 = 1.0$ e $x_0 = 2.0$, respectivamente) para demonstrar que, dependendo do valor de partida, podemos encontrar diferentes mínimos para a função $f$.\n",
    "\n",
    "A maioria dos comandos (após as duas chamadas de `fmin`) no arquivo `fmin1.py` cria o gráfico da função, os pontos de partida para as buscas e o mínimo obtido:"
   ]
  },
  {
   "cell_type": "code",
   "execution_count": 6,
   "metadata": {},
   "outputs": [
    {
     "name": "stdout",
     "output_type": "stream",
     "text": [
      "Optimization terminated successfully.\n",
      "         Current function value: -2.023866\n",
      "         Iterations: 16\n",
      "         Function evaluations: 32\n",
      "Busca iniciada em x=1., minimo é [ 0.23964844]\n",
      "Optimization terminated successfully.\n",
      "         Current function value: -1.000529\n",
      "         Iterations: 16\n",
      "         Function evaluations: 32\n",
      "Busca iniciada em x=2., minimo é [ 3.13847656]\n"
     ]
    },
    {
     "data": {
      "text/plain": [
       "<matplotlib.legend.Legend at 0x112c5f828>"
      ]
     },
     "execution_count": 6,
     "metadata": {},
     "output_type": "execute_result"
    },
    {
     "data": {
      "image/png": "[encoded data removed]",
      "text/plain": [
       "<matplotlib.figure.Figure at 0x112b262b0>"
      ]
     },
     "metadata": {},
     "output_type": "display_data"
    }
   ],
   "source": [
    "from scipy import arange, cos, exp\n",
    "from scipy.optimize import fmin\n",
    "import pylab\n",
    "\n",
    "def f(x):\n",
    "    return cos(x) - 3 * exp( -(x - 0.2) ** 2)\n",
    "\n",
    "# encontra mínimos de f(x),\n",
    "# começa de 1.0 e 2.0 respectivamente\n",
    "minimum1 = fmin(f, 1.0)\n",
    "print(\"Busca iniciada em x=1., minimo é\", minimum1)\n",
    "minimum2 = fmin(f, 2.0)\n",
    "print(\"Busca iniciada em x=2., minimo é\", minimum2)\n",
    "\n",
    "# plota função\n",
    "x = arange(-10, 10, 0.1)\n",
    "y = f(x)\n",
    "pylab.plot(x, y, label='$\\cos(x)-3e^{-(x-0.2)^2}$')\n",
    "pylab.xlabel('x')\n",
    "pylab.grid()\n",
    "pylab.axis([-5, 5, -2.2, 0.5])\n",
    "\n",
    "# adiciona minimo1 para plot\n",
    "pylab.plot(minimum1, f(minimum1), 'vr',\n",
    "           label='minimo 1')\n",
    "# adiciona ponto de partida 1 para plot\n",
    "pylab.plot(1.0, f(1.0), 'or', label='partida 1')\n",
    "\n",
    "# adiciona minimo2 para plot\n",
    "pylab.plot(minimum2,f(minimum2),'vg',\\\n",
    "           label='minimo 2')\n",
    "\n",
    "# adiciona ponto de partida 2 para plot\n",
    "pylab.plot(2.0,f(2.0),'og',label='partida 2')\n",
    "\n",
    "pylab.legend(loc='lower left')"
   ]
  },
  {
   "cell_type": "markdown",
   "metadata": {},
   "source": [
    "A chamada da função `fmin` produzirá algum diagnóstico de saída, como você pode ver acima.\n",
    "\n",
    "##### Valor de retorno de `fmin`\n",
    "\n",
    "Note que o valor de retorno da função `fmin` é um `array` do numpy que - para o exemplo acima - contém apenas um número já que temos um único parâmetro (aqui $x$) para variar. Em geral, `fmin` pode ser usada para encontrar o mínimo em um espaço de parâmetros de dimensão superior se houver vários parâmetros. Nesse caso, o `array` numpy conteria aqueles parâmetros que minimizam a função objetivo. A função objetivo $f(x)$ tem que retornar um escalar mesmo que haja mais parâmetros, ou seja, mesmo se $x$ for um vetor."
   ]
  },
  {
   "cell_type": "markdown",
   "metadata": {},
   "source": [
    "Outros métodos numéricos\n",
    "-----------------------\n",
    "\n",
    "SciPy e NumPy proporcionam o acesso a um grande número de outros algoritmos numéricos, incluindo interpolação, transformadas de Fourier, otimização, funções especiais (tais como funções de Bessel), processamento de sinais e filtros, geração de números aleatórios, e mais. Você pode começar a explorar as capacidades desses dois módulos usando a função `help` ou a documentação fornecida na web."
   ]
  },
  {
   "cell_type": "markdown",
   "metadata": {},
   "source": [
    "scipy.io: entrada e saída no SciPy\n",
    "----------------------------\n",
    "\n",
    "O SciPy fornece rotinas para ler e escrever arquivos `.mat` do Matlab. Aqui está um exemplo de criação de um arquivo compatível com Matlab armazenando uma matriz (1x11), e posterior leitura desses dados em uma matriz numpy do Python usando a biblioteca de entrada e saída do SciPy:\n",
    "\n",
    "Primeiro criamos um arquivo `.mat` no Octave (Octave é, na maioria dos casos, compatível com Matlab):\n",
    "\n",
    "```octave\n",
    "octave: 1> a = -1: 0,5: 4\n",
    "a =\n",
    "Columns 1 through 6:\n",
    "    -1,0000 -0,5000 0,0000 0,5000 1,0000 1,5000\n",
    "Columns 7 through 11:\n",
    "    2,0000 2,5000 3,0000 3,5000 4,0000\n",
    "octave: 2> save -6% octave_a.mat a     % salva como versão 6\n",
    "```"
   ]
  },
  {
   "cell_type": "markdown",
   "metadata": {},
   "source": [
    "Então, carregamos este *array* no Python:"
   ]
  },
  {
   "cell_type": "code",
   "execution_count": 36,
   "metadata": {
    "collapsed": true
   },
   "outputs": [],
   "source": [
    "from scipy.io import loadmat\n",
    "mat_contents = loadmat('static/data/octave_a.mat')"
   ]
  },
  {
   "cell_type": "code",
   "execution_count": 37,
   "metadata": {},
   "outputs": [
    {
     "data": {
      "text/plain": [
       "{'__globals__': [],\n",
       " '__header__': b'MATLAB 5.0 MAT-file, written by Octave 4.0.3, 2017-06-29 01:52:49 UTC',\n",
       " '__version__': '1.0',\n",
       " 'a': array([[-1. , -0.5,  0. ,  0.5,  1. ,  1.5,  2. ,  2.5,  3. ,  3.5,  4. ]])}"
      ]
     },
     "execution_count": 37,
     "metadata": {},
     "output_type": "execute_result"
    }
   ],
   "source": [
    "mat_contents"
   ]
  },
  {
   "cell_type": "code",
   "execution_count": 38,
   "metadata": {},
   "outputs": [
    {
     "data": {
      "text/plain": [
       "array([[-1. , -0.5,  0. ,  0.5,  1. ,  1.5,  2. ,  2.5,  3. ,  3.5,  4. ]])"
      ]
     },
     "execution_count": 38,
     "metadata": {},
     "output_type": "execute_result"
    }
   ],
   "source": [
    "mat_contents['a']"
   ]
  },
  {
   "cell_type": "markdown",
   "metadata": {},
   "source": [
    "A função `loadmat` retorna um dicionário: a chave (*key*) para cada item no dicionário é uma *string* cujo nome é o mesmo da matriz que foi salva no Matlab.\n",
    "\n",
    "Um arquivo Matlab pode conter vários *arrays*. Cada um deles é apresentado por um par chave-valor (*key:value*) no dicionário.\n",
    "\n",
    "Vamos salvar dois *arrays* a partir do Python para demonstrar isso:"
   ]
  },
  {
   "cell_type": "code",
   "execution_count": 39,
   "metadata": {
    "collapsed": true
   },
   "outputs": [],
   "source": [
    "import scipy.io\n",
    "import numpy as np\n",
    "\n",
    "# cria dois arrays numpy\n",
    "a = np.linspace(0, 50, 11)\n",
    "b = np.ones((4, 4))\n",
    "\n",
    "# salva como arquivo mat\n",
    "# cria dicionario para savemat\n",
    "tmp_d = {'a': a,\n",
    "         'b': b}\n",
    "scipy.io.savemat('static/data/a_b.mat', tmp_d)"
   ]
  },
  {
   "cell_type": "markdown",
   "metadata": {},
   "source": [
    "This program creates the file `a_b.mat`, which we can subsequently read using Matlab or here Octave:\n",
    "\n",
    "Este programa cria o arquivo `a_b.mat`, que podemos subsequentemente ler usando o Matlab ou\n",
    "\n",
    "    HAL47:code fangohr$ octave\n",
    "    GNU Octave, version 3.2.4\n",
    "    Copyright (C) 2009 John W. Eaton and others.\n",
    "    <snip>\n",
    "\n",
    "    octave:1> whos\n",
    "    Variables in the current scope:\n",
    "\n",
    "      Attr Name        Size                     Bytes  Class\n",
    "      ==== ====        ====                     =====  ===== \n",
    "           ans         1x11                        92  cell\n",
    "\n",
    "    Total is 11 elements using 92 bytes\n",
    "\n",
    "    octave:2> load data.mat\n",
    "    octave:3> whos\n",
    "    Variables in the current scope:\n",
    "\n",
    "      Attr Name        Size                     Bytes  Class\n",
    "      ==== ====        ====                     =====  ===== \n",
    "           a          11x1                         88  double\n",
    "           ans         1x11                        92  cell\n",
    "           b           4x4                        128  double\n",
    "\n",
    "    Total is 38 elements using 308 bytes\n",
    "\n",
    "    octave:4> a\n",
    "    a =\n",
    "\n",
    "        0\n",
    "        5\n",
    "       10\n",
    "       15\n",
    "       20\n",
    "       25\n",
    "       30\n",
    "       35\n",
    "       40\n",
    "       45\n",
    "       50\n",
    "\n",
    "    octave:5> b\n",
    "    b =\n",
    "\n",
    "       1   1   1   1\n",
    "       1   1   1   1\n",
    "       1   1   1   1\n",
    "       1   1   1   1"
   ]
  },
  {
   "cell_type": "markdown",
   "metadata": {},
   "source": [
    "Note que há outras funções para leitura/escrita em formatos usados por IDL, Netcdf e outros na `scipy.io`.\n",
    "\n",
    "Para saber mais → veja [Tutorial Scipy](http://docs.scipy.org/doc/scipy/reference/tutorial/io.html)."
   ]
  }
 ],
 "metadata": {
  "kernelspec": {
   "display_name": "Python 3",
   "language": "python",
   "name": "python3"
  },
  "language_info": {
   "codemirror_mode": {
    "name": "ipython",
    "version": 3
   },
   "file_extension": ".py",
   "mimetype": "text/x-python",
   "name": "python",
   "nbconvert_exporter": "python",
   "pygments_lexer": "ipython3",
   "version": "3.6.4"
  }
 },
 "nbformat": 4,
 "nbformat_minor": 2
}
